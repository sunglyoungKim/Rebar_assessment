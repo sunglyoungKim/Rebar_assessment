{
 "cells": [
  {
   "cell_type": "code",
   "execution_count": 1,
   "id": "06f8f685-4f80-4ecc-92cf-704d017489e4",
   "metadata": {},
   "outputs": [],
   "source": [
    "import pathlib"
   ]
  },
  {
   "cell_type": "code",
   "execution_count": 24,
   "id": "54ad5406-612d-4c89-9e2f-99d6389f3f59",
   "metadata": {},
   "outputs": [],
   "source": [
    "with open('rebar_gen/font_list/font_list.txt', 'w') as outfile:\n",
    "    outfile.write('\\n'.join(i.name for i in pathlib.Path('rebar_gen/font/').rglob('*')))"
   ]
  }
 ],
 "metadata": {
  "kernelspec": {
   "display_name": "ED_OCR",
   "language": "python",
   "name": "ed_ocr"
  },
  "language_info": {
   "codemirror_mode": {
    "name": "ipython",
    "version": 3
   },
   "file_extension": ".py",
   "mimetype": "text/x-python",
   "name": "python",
   "nbconvert_exporter": "python",
   "pygments_lexer": "ipython3",
   "version": "3.10.16"
  }
 },
 "nbformat": 4,
 "nbformat_minor": 5
}
